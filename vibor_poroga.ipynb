{
 "cells": [
  {
   "cell_type": "code",
   "execution_count": 1,
   "metadata": {},
   "outputs": [],
   "source": [
    "orthopairs={}\n",
    "with open('/home/jerry/proteoms/orthopairs_beta_arab.txt','r') as fil:\n",
    "    for i in fil:\n",
    "        b=i.strip().split('\\t')[0]\n",
    "        a=i.strip().split('\\t')[1]\n",
    "        orthopairs[(b,a)]=None\n",
    "amount_of_orthopairs=len(orthopairs.items())"
   ]
  },
  {
   "cell_type": "code",
   "execution_count": 2,
   "metadata": {},
   "outputs": [
    {
     "ename": "KeyboardInterrupt",
     "evalue": "",
     "output_type": "error",
     "traceback": [
      "\u001b[0;31m\u001b[0m",
      "\u001b[0;31mKeyboardInterrupt\u001b[0mTraceback (most recent call last)",
      "\u001b[0;32m<ipython-input-2-31c683bdbb3a>\u001b[0m in \u001b[0;36m<module>\u001b[0;34m()\u001b[0m\n\u001b[1;32m      3\u001b[0m \u001b[0mTPR\u001b[0m\u001b[0;34m=\u001b[0m\u001b[0;34m[\u001b[0m\u001b[0;34m]\u001b[0m\u001b[0;34m\u001b[0m\u001b[0m\n\u001b[1;32m      4\u001b[0m \u001b[0mfil\u001b[0m\u001b[0;34m=\u001b[0m\u001b[0mopen\u001b[0m\u001b[0;34m(\u001b[0m\u001b[0;34m'/home/jerry/proteoms/score10000.txt'\u001b[0m\u001b[0;34m,\u001b[0m\u001b[0;34m'r'\u001b[0m\u001b[0;34m)\u001b[0m\u001b[0;34m\u001b[0m\u001b[0m\n\u001b[0;32m----> 5\u001b[0;31m \u001b[0mff\u001b[0m\u001b[0;34m=\u001b[0m\u001b[0mfil\u001b[0m\u001b[0;34m.\u001b[0m\u001b[0mreadlines\u001b[0m\u001b[0;34m(\u001b[0m\u001b[0;34m)\u001b[0m\u001b[0;34m\u001b[0m\u001b[0m\n\u001b[0m\u001b[1;32m      6\u001b[0m \u001b[0mll\u001b[0m\u001b[0;34m=\u001b[0m\u001b[0mlen\u001b[0m\u001b[0;34m(\u001b[0m\u001b[0mff\u001b[0m\u001b[0;34m)\u001b[0m\u001b[0;34m\u001b[0m\u001b[0m\n\u001b[1;32m      7\u001b[0m \u001b[0mfil\u001b[0m\u001b[0;34m.\u001b[0m\u001b[0mclose\u001b[0m\u001b[0;34m(\u001b[0m\u001b[0;34m)\u001b[0m\u001b[0;34m\u001b[0m\u001b[0m\n",
      "\u001b[0;31mKeyboardInterrupt\u001b[0m: "
     ]
    }
   ],
   "source": [
    "score=[]\n",
    "FPR=[]\n",
    "TPR=[]\n",
    "fil=open('/home/jerry/proteoms/score10000.txt','r')\n",
    "ff=fil.readlines()\n",
    "ll=len(ff)\n",
    "fil.close()\n",
    "OR,NOT_OR=0,0\n",
    "for i in ff:\n",
    "    s=i.strip().split('\\t')\n",
    "    tup=(s[0],s[1])\n",
    "    if tup in orthopairs:\n",
    "        OR+=1\n",
    "    else:\n",
    "        NOT_OR+=1\n",
    "assert ll==(OR+NOT_OR)\n",
    "for ss in range(-32,50):\n",
    "    sc=ss*1.0/10\n",
    "    print sc\n",
    "    score.append(sc)\n",
    "    tpr,fpr=0,0\n",
    "    for i in ff:\n",
    "        s=i.strip().split('\\t')\n",
    "        sim=float(s[2])\n",
    "        tup=(s[0],s[1])\n",
    "        if sim>=sc:\n",
    "            if tup in orthopairs:\n",
    "                tpr+=1\n",
    "            else:\n",
    "                fpr+=1\n",
    "    TPR.append(tpr*1.0/OR)\n",
    "    FPR.append(fpr*1.0/NOT_OR)"
   ]
  },
  {
   "cell_type": "code",
   "execution_count": 3,
   "metadata": {},
   "outputs": [],
   "source": [
    "from matplotlib import pyplot as plt\n",
    "%matplotlib inline\n",
    "import numpy as np"
   ]
  },
  {
   "cell_type": "code",
   "execution_count": 12,
   "metadata": {},
   "outputs": [
    {
     "data": {
      "text/plain": [
       "-0.9"
      ]
     },
     "execution_count": 12,
     "metadata": {},
     "output_type": "execute_result"
    }
   ],
   "source": [
    "def dist(x,y):\n",
    "    return np.sqrt(x**2+(1-y)**2)\n",
    "d=[]\n",
    "for i in range(len(TPR)):\n",
    "    d.append(dist(FPR[i],TPR[i]))\n",
    "score[d.index(min(d))]"
   ]
  },
  {
   "cell_type": "code",
   "execution_count": 21,
   "metadata": {},
   "outputs": [
    {
     "data": {
      "text/plain": [
       "Text(0,0.5,'Distance from (0,1)')"
      ]
     },
     "execution_count": 21,
     "metadata": {},
     "output_type": "execute_result"
    },
    {
     "data": {
      "image/png": "[encoded data removed]",
      "text/plain": [
       "<Figure size 432x288 with 1 Axes>"
      ]
     },
     "metadata": {
      "needs_background": "light"
     },
     "output_type": "display_data"
    }
   ],
   "source": [
    "X,Y=[],[]\n",
    "for i in range(len(TPR)):\n",
    "    X.append(score[i])\n",
    "    Y.append(dist(FPR[i],TPR[i]))\n",
    "plt.plot(X,Y)\n",
    "plt.grid(True)\n",
    "plt.annotate('Optimal thr', xy=(-0.9, 0.03), xytext=(0, 0.5),\n",
    "             arrowprops=dict(facecolor='black', shrink=0.05),\n",
    "             )\n",
    "plt.xlabel('Score')\n",
    "plt.ylabel('Distance from (0,1)')"
   ]
  },
  {
   "cell_type": "code",
   "execution_count": 1,
   "metadata": {},
   "outputs": [],
   "source": [
    "with open('/home/jerry/Arabbeta_noersna_-0_4iterwithchecks.expressogroups.txt','r') as fil:\n",
    "    f=fil.readlines()\n",
    "g=[]\n",
    "ex=[]\n",
    "for i in f:\n",
    "    s=i.strip().split('\\t')\n",
    "    if float(s[2])>0.5:\n",
    "        g.append([s[0],s[1]])\n",
    "        ex.append(s[0])\n",
    "        ex.append(s[1])"
   ]
  },
  {
   "cell_type": "code",
   "execution_count": 2,
   "metadata": {},
   "outputs": [
    {
     "data": {
      "text/plain": [
       "7664"
      ]
     },
     "execution_count": 2,
     "metadata": {},
     "output_type": "execute_result"
    }
   ],
   "source": [
    "len(g)"
   ]
  },
  {
   "cell_type": "code",
   "execution_count": 3,
   "metadata": {},
   "outputs": [
    {
     "data": {
      "text/plain": [
       "7664"
      ]
     },
     "execution_count": 3,
     "metadata": {},
     "output_type": "execute_result"
    }
   ],
   "source": [
    "len(list(set(ex)))/2"
   ]
  },
  {
   "cell_type": "code",
   "execution_count": 7,
   "metadata": {},
   "outputs": [],
   "source": [
    "import collections\n",
    "with open('/home/jerry/Arabbeta_noersna_-0_10iterwithchecks.expressogroups.txt','r') as fil:\n",
    "    f=fil.readlines()\n",
    "d={}\n",
    "for i in f:\n",
    "    s=i.strip().split('\\t')\n",
    "    l=len(s)\n",
    "    if l in d:\n",
    "        d[l]+=1\n",
    "    else: d[l]=1\n"
   ]
  },
  {
   "cell_type": "code",
   "execution_count": 8,
   "metadata": {},
   "outputs": [
    {
     "data": {
      "text/plain": [
       "Text(0.5,1,u'\\u0420\\u0430\\u043f\\u0440\\u0435\\u0434\\u0435\\u043b\\u0435\\u043d\\u0438\\u0435 \\u044d\\u043a\\u0441\\u043f\\u0440\\u0435\\u0441\\u0441\\u043e\\u0433\\u0440\\u0443\\u043f\\u043f')"
      ]
     },
     "execution_count": 8,
     "metadata": {},
     "output_type": "execute_result"
    },
    {
     "data": {
      "image/png": "[encoded data removed]",
      "text/plain": [
       "<Figure size 864x576 with 1 Axes>"
      ]
     },
     "metadata": {
      "needs_background": "light"
     },
     "output_type": "display_data"
    }
   ],
   "source": [
    "import matplotlib.pyplot as plt\n",
    "plt.figure(figsize=(12,8))\n",
    "plt.bar(d.keys()[:40],d.values()[:40])\n",
    "plt.xlabel(u\"Размер\")\n",
    "plt.ylabel(u\"Кол-во экспрессогрупп\")\n",
    "plt.title(u\"Рапределение экспрессогрупп\")"
   ]
  },
  {
   "cell_type": "code",
   "execution_count": 9,
   "metadata": {},
   "outputs": [
    {
     "name": "stdout",
     "output_type": "stream",
     "text": [
      "1  -  3570  штук\n",
      "2  -  3564  штук\n",
      "3  -  971  штук\n",
      "4  -  616  штук\n",
      "5  -  334  штук\n",
      "6  -  219  штук\n",
      "7  -  122  штук\n",
      "8  -  144  штук\n",
      "9  -  97  штук\n",
      "10  -  63  штук\n",
      "11  -  50  штук\n",
      "12  -  51  штук\n",
      "13  -  48  штук\n",
      "14  -  25  штук\n",
      "15  -  32  штук\n",
      "16  -  26  штук\n",
      "17  -  21  штук\n",
      "18  -  21  штук\n",
      "19  -  21  штук\n",
      "20  -  14  штук\n",
      "21  -  5  штук\n",
      "22  -  7  штук\n",
      "23  -  13  штук\n",
      "24  -  8  штук\n",
      "25  -  4  штук\n",
      "26  -  6  штук\n",
      "27  -  2  штук\n",
      "28  -  4  штук\n",
      "29  -  2  штук\n",
      "30  -  4  штук\n",
      "31  -  5  штук\n",
      "32  -  2  штук\n",
      "33  -  3  штук\n",
      "34  -  1  штук\n",
      "35  -  4  штук\n",
      "36  -  4  штук\n",
      "37  -  4  штук\n",
      "38  -  7  штук\n",
      "39  -  6  штук\n",
      "40  -  4  штук\n",
      "41  -  1  штук\n",
      "42  -  1  штук\n",
      "43  -  1  штук\n",
      "44  -  2  штук\n",
      "45  -  4  штук\n",
      "47  -  2  штук\n",
      "49  -  1  штук\n",
      "51  -  1  штук\n",
      "52  -  3  штук\n",
      "53  -  2  штук\n",
      "54  -  2  штук\n",
      "56  -  1  штук\n",
      "57  -  3  штук\n",
      "58  -  1  штук\n",
      "59  -  1  штук\n",
      "61  -  1  штук\n",
      "62  -  3  штук\n",
      "63  -  1  штук\n",
      "64  -  3  штук\n",
      "68  -  1  штук\n",
      "70  -  3  штук\n",
      "71  -  1  штук\n",
      "76  -  2  штук\n",
      "77  -  1  штук\n",
      "79  -  1  штук\n",
      "80  -  1  штук\n",
      "82  -  1  штук\n",
      "84  -  1  штук\n",
      "85  -  1  штук\n",
      "86  -  1  штук\n",
      "87  -  1  штук\n",
      "88  -  2  штук\n",
      "90  -  1  штук\n",
      "94  -  1  штук\n",
      "95  -  1  штук\n",
      "98  -  1  штук\n",
      "100  -  1  штук\n",
      "101  -  2  штук\n",
      "102  -  1  штук\n",
      "109  -  1  штук\n",
      "113  -  1  штук\n",
      "118  -  1  штук\n",
      "141  -  1  штук\n",
      "147  -  1  штук\n",
      "148  -  1  штук\n",
      "160  -  1  штук\n",
      "162  -  1  штук\n",
      "171  -  1  штук\n",
      "173  -  1  штук\n",
      "177  -  1  штук\n",
      "206  -  1  штук\n",
      "297  -  1  штук\n",
      "336  -  1  штук\n",
      "783  -  1  штук\n",
      "1589  -  1  штук\n"
     ]
    }
   ],
   "source": [
    "od = collections.OrderedDict(sorted(d.items()))\n",
    "for i in od:\n",
    "        print i,' - ',od[i],' штук'"
   ]
  },
  {
   "cell_type": "code",
   "execution_count": 15,
   "metadata": {},
   "outputs": [
    {
     "name": "stdout",
     "output_type": "stream",
     "text": [
      "1  -  9834  штук\n",
      "2  -  3361  штук\n",
      "3  -  891  штук\n",
      "4  -  527  штук\n",
      "5  -  288  штук\n",
      "6  -  177  штук\n",
      "7  -  130  штук\n",
      "8  -  113  штук\n",
      "9  -  76  штук\n",
      "10  -  60  штук\n",
      "11  -  45  штук\n",
      "12  -  40  штук\n",
      "13  -  36  штук\n",
      "14  -  22  штук\n",
      "15  -  16  штук\n",
      "16  -  21  штук\n",
      "17  -  16  штук\n",
      "18  -  16  штук\n",
      "19  -  8  штук\n",
      "20  -  10  штук\n",
      "21  -  13  штук\n",
      "22  -  12  штук\n",
      "23  -  10  штук\n",
      "24  -  2  штук\n",
      "25  -  5  штук\n",
      "26  -  7  штук\n",
      "27  -  4  штук\n",
      "28  -  3  штук\n",
      "29  -  5  штук\n",
      "30  -  3  штук\n",
      "31  -  2  штук\n",
      "32  -  3  штук\n",
      "33  -  4  штук\n",
      "34  -  2  штук\n",
      "35  -  3  штук\n",
      "37  -  4  штук\n",
      "38  -  5  штук\n",
      "39  -  2  штук\n",
      "40  -  3  штук\n",
      "41  -  1  штук\n",
      "42  -  5  штук\n",
      "45  -  1  штук\n",
      "46  -  1  штук\n",
      "47  -  2  штук\n",
      "48  -  1  штук\n",
      "50  -  1  штук\n",
      "51  -  1  штук\n",
      "52  -  1  штук\n",
      "53  -  1  штук\n",
      "54  -  1  штук\n",
      "55  -  1  штук\n",
      "57  -  2  штук\n",
      "58  -  2  штук\n",
      "62  -  1  штук\n",
      "64  -  1  штук\n",
      "65  -  1  штук\n",
      "69  -  2  штук\n",
      "70  -  1  штук\n",
      "71  -  2  штук\n",
      "72  -  1  штук\n",
      "74  -  1  штук\n",
      "76  -  3  штук\n",
      "78  -  1  штук\n",
      "79  -  1  штук\n",
      "80  -  1  штук\n",
      "83  -  2  штук\n",
      "84  -  1  штук\n",
      "86  -  1  штук\n",
      "94  -  1  штук\n",
      "104  -  1  штук\n",
      "109  -  1  штук\n",
      "128  -  1  штук\n",
      "149  -  1  штук\n",
      "152  -  2  штук\n",
      "156  -  1  штук\n",
      "263  -  1  штук\n",
      "736  -  1  штук\n",
      "1312  -  1  штук\n"
     ]
    }
   ],
   "source": [
    "with open('/home/jerry/eta0.05_maxit150_earlystop5_120scale_2iter.expressogroups.txt','r') as fil:\n",
    "    f=fil.readlines()\n",
    "d={}\n",
    "for i in f:\n",
    "    s=i.strip().split('\\t')\n",
    "    l=len(s)\n",
    "    if l in d:\n",
    "        d[l]+=1\n",
    "    else: d[l]=1\n",
    "od = collections.OrderedDict(sorted(d.items()))\n",
    "for i in od:\n",
    "        print i,' - ',od[i],' штук'"
   ]
  },
  {
   "cell_type": "code",
   "execution_count": 14,
   "metadata": {},
   "outputs": [
    {
     "data": {
      "text/plain": [
       "Text(0.5,1,u'\\u0420\\u0430\\u043f\\u0440\\u0435\\u0434\\u0435\\u043b\\u0435\\u043d\\u0438\\u0435 \\u044d\\u043a\\u0441\\u043f\\u0440\\u0435\\u0441\\u0441\\u043e\\u0433\\u0440\\u0443\\u043f\\u043f')"
      ]
     },
     "execution_count": 14,
     "metadata": {},
     "output_type": "execute_result"
    },
    {
     "data": {
      "image/png": "[encoded data removed]",
      "text/plain": [
       "<Figure size 864x576 with 1 Axes>"
      ]
     },
     "metadata": {
      "needs_background": "light"
     },
     "output_type": "display_data"
    }
   ],
   "source": [
    "import matplotlib.pyplot as plt\n",
    "plt.figure(figsize=(12,8))\n",
    "plt.bar(d.keys()[1:20],d.values()[1:20])\n",
    "plt.xlabel(u\"Размер\")\n",
    "plt.ylabel(u\"Кол-во экспрессогрупп\")\n",
    "plt.title(u\"Рапределение экспрессогрупп\")"
   ]
  },
  {
   "cell_type": "code",
   "execution_count": 17,
   "metadata": {},
   "outputs": [],
   "source": [
    "with open('/home/jerry/eta0.05_maxit150_earlystop5_120scale_2iter.expressogroups.txt','r') as fil:\n",
    "    f=fil.readlines()\n",
    "ex=[]\n",
    "for i in f:\n",
    "    s=i.strip().split('\\t')\n",
    "    if len(s)==2:\n",
    "        if s[0][0]=='B' and s[1][0]=='A':\n",
    "            ex.append([s[1],s[0]])\n",
    "        elif s[1][0]=='B' and s[0][0]=='A':\n",
    "            ex.append([s[0],s[1]])\n",
    "with open('/home/jerry/ICML/ICML-master/score-1.3/orthopairs_arab_beta.txt','r') as fil:\n",
    "    f=fil.readlines()\n",
    "ort=[]\n",
    "for i in f:\n",
    "    s=i.strip().split('\\t')\n",
    "    ort.append(s)"
   ]
  },
  {
   "cell_type": "code",
   "execution_count": 18,
   "metadata": {},
   "outputs": [],
   "source": [
    "c1,c2,c3,c4=0,0,0,0\n",
    "for i in ex:\n",
    "    if i in ort:\n",
    "        c1+=1\n",
    "    else:\n",
    "        c2+=1\n",
    "for i in ort:\n",
    "    if i in ex:\n",
    "        c3+=1\n",
    "    else: c4+=1"
   ]
  },
  {
   "cell_type": "code",
   "execution_count": 19,
   "metadata": {},
   "outputs": [
    {
     "name": "stdout",
     "output_type": "stream",
     "text": [
      "Общие  2956\n",
      "Только в экспрессогруппах  405\n",
      "Только в ортопарах  5327\n"
     ]
    }
   ],
   "source": [
    "print 'Общие ',c1\n",
    "print 'Только в экспрессогруппах ',c2\n",
    "print 'Только в ортопарах ', c4"
   ]
  },
  {
   "cell_type": "markdown",
   "metadata": {},
   "source": [
    "## Для групп размера 3"
   ]
  },
  {
   "cell_type": "code",
   "execution_count": 20,
   "metadata": {},
   "outputs": [],
   "source": [
    "def oba(x):\n",
    "    a,b=0,0\n",
    "    for i in x:\n",
    "        if i[0]=='A':\n",
    "            a+=1\n",
    "        elif i[0]=='B':\n",
    "            b+=1\n",
    "    if a>0 and b>0:\n",
    "        return True\n",
    "    else: return False"
   ]
  },
  {
   "cell_type": "code",
   "execution_count": 21,
   "metadata": {},
   "outputs": [],
   "source": [
    "with open('/home/jerry/proteoms/edited_proteoms/Results_May20/Orthogroups.txt','r') as fil:\n",
    "    f=fil.readlines()\n",
    "ort=[]\n",
    "for i in f:\n",
    "    s=i.strip().split(': ')[1].split(' ')\n",
    "    if len(s)==3 and oba(s):\n",
    "        ort.append(sorted(s))"
   ]
  },
  {
   "cell_type": "code",
   "execution_count": 22,
   "metadata": {},
   "outputs": [],
   "source": [
    "with open('/home/jerry/eta0.05_maxit150_earlystop5_120scale_2iter.expressogroups.txt','r') as fil:\n",
    "    f=fil.readlines()\n",
    "ex=[]\n",
    "for i in f:\n",
    "    s=i.strip().split('\\t')\n",
    "    if len(s)==3 and oba(s):\n",
    "        ex.append(sorted(s))\n",
    "        "
   ]
  },
  {
   "cell_type": "code",
   "execution_count": 23,
   "metadata": {},
   "outputs": [
    {
     "name": "stdout",
     "output_type": "stream",
     "text": [
      "382 509 382 1956\n"
     ]
    }
   ],
   "source": [
    "with open('/home/jerry/res.txt','w') as fil:\n",
    "    for i in ort:\n",
    "        fil.write(' '.join(i)+'\\n')\n",
    "\n",
    "c1,c2,c3,c4=0,0,0,0\n",
    "for i in ex:\n",
    "    if i in ort:\n",
    "        c1+=1\n",
    "    else:\n",
    "        c2+=1\n",
    "for i in ort:\n",
    "    if i in ex:\n",
    "        c3+=1\n",
    "    else: c4+=1\n",
    "print c1,c2,c3,c4"
   ]
  },
  {
   "cell_type": "markdown",
   "metadata": {},
   "source": [
    "## Для групп размера 4"
   ]
  },
  {
   "cell_type": "code",
   "execution_count": 51,
   "metadata": {},
   "outputs": [
    {
     "name": "stdout",
     "output_type": "stream",
     "text": [
      "70 546 70 493\n"
     ]
    }
   ],
   "source": [
    "with open('/home/jerry/proteoms/edited_proteoms/Results_May20/Orthogroups.txt','r') as fil:\n",
    "    f=fil.readlines()\n",
    "ort=[]\n",
    "for i in f:\n",
    "    s=i.strip().split(': ')[1].split(' ')\n",
    "    if len(s)==4 and oba(s):\n",
    "        ort.append(sorted(s))\n",
    "\n",
    "with open('/home/jerry/Arabbeta_noersna_-0_10iterwithchecks.expressogroups.txt','r') as fil:\n",
    "    f=fil.readlines()\n",
    "ex=[]\n",
    "for i in f:\n",
    "    s=i.strip().split('\\t')\n",
    "    if len(s)==4 and oba(s):\n",
    "        ex.append(sorted(s))\n",
    "        \n",
    "        \n",
    "with open('/home/jerry/res.txt','w') as fil:\n",
    "    for i in ort:\n",
    "        fil.write(' '.join(i)+'\\n')\n",
    "\n",
    "c1,c2,c3,c4=0,0,0,0\n",
    "for i in ex:\n",
    "    if i in ort:\n",
    "        c1+=1\n",
    "    else:\n",
    "        c2+=1\n",
    "for i in ort:\n",
    "    if i in ex:\n",
    "        c3+=1\n",
    "    else: c4+=1\n",
    "print c1,c2,c3,c4"
   ]
  },
  {
   "cell_type": "markdown",
   "metadata": {},
   "source": [
    "## Для групп размера 5"
   ]
  },
  {
   "cell_type": "code",
   "execution_count": 53,
   "metadata": {},
   "outputs": [
    {
     "name": "stdout",
     "output_type": "stream",
     "text": [
      "15 319 15 204\n"
     ]
    }
   ],
   "source": [
    "with open('/home/jerry/proteoms/edited_proteoms/Results_May20/Orthogroups.txt','r') as fil:\n",
    "    f=fil.readlines()\n",
    "ort=[]\n",
    "for i in f:\n",
    "    s=i.strip().split(': ')[1].split(' ')\n",
    "    if len(s)==5 and oba(s):\n",
    "        ort.append(sorted(s))\n",
    "\n",
    "with open('/home/jerry/Arabbeta_noersna_-0_10iterwithchecks.expressogroups.txt','r') as fil:\n",
    "    f=fil.readlines()\n",
    "ex=[]\n",
    "for i in f:\n",
    "    s=i.strip().split('\\t')\n",
    "    if len(s)==5 and oba(s):\n",
    "        ex.append(sorted(s))\n",
    "        \n",
    "        \n",
    "with open('/home/jerry/res.txt','w') as fil:\n",
    "    for i in ort:\n",
    "        fil.write(' '.join(i)+'\\n')\n",
    "c1,c2,c3,c4=0,0,0,0\n",
    "for i in ex:\n",
    "    if i in ort:\n",
    "        c1+=1\n",
    "    else:\n",
    "        c2+=1\n",
    "for i in ort:\n",
    "    if i in ex:\n",
    "        c3+=1\n",
    "    else: c4+=1\n",
    "print c1,c2,c3,c4"
   ]
  },
  {
   "cell_type": "markdown",
   "metadata": {},
   "source": [
    "## Для групп размера 6"
   ]
  },
  {
   "cell_type": "code",
   "execution_count": 55,
   "metadata": {},
   "outputs": [
    {
     "name": "stdout",
     "output_type": "stream",
     "text": [
      "5 214 5 71\n"
     ]
    }
   ],
   "source": [
    "with open('/home/jerry/proteoms/edited_proteoms/Results_May20/Orthogroups.txt','r') as fil:\n",
    "    f=fil.readlines()\n",
    "ort=[]\n",
    "for i in f:\n",
    "    s=i.strip().split(': ')[1].split(' ')\n",
    "    if len(s)==6 and oba(s):\n",
    "        ort.append(sorted(s))\n",
    "\n",
    "with open('/home/jerry/Arabbeta_noersna_-0_10iterwithchecks.expressogroups.txt','r') as fil:\n",
    "    f=fil.readlines()\n",
    "ex=[]\n",
    "for i in f:\n",
    "    s=i.strip().split('\\t')\n",
    "    if len(s)==6 and oba(s):\n",
    "        ex.append(sorted(s))\n",
    "        \n",
    "with open('/home/jerry/res.txt','w') as fil:\n",
    "    for i in ort:\n",
    "        fil.write(' '.join(i)+'\\n')\n",
    "c1,c2,c3,c4=0,0,0,0\n",
    "for i in ex:\n",
    "    if i in ort:\n",
    "        c1+=1\n",
    "    else:\n",
    "        c2+=1\n",
    "for i in ort:\n",
    "    if i in ex:\n",
    "        c3+=1\n",
    "    else: c4+=1\n",
    "print c1,c2,c3,c4"
   ]
  },
  {
   "cell_type": "markdown",
   "metadata": {},
   "source": [
    "## Для групп размера 2"
   ]
  },
  {
   "cell_type": "code",
   "execution_count": 45,
   "metadata": {},
   "outputs": [
    {
     "name": "stdout",
     "output_type": "stream",
     "text": [
      "3127 437 3127 5156\n"
     ]
    }
   ],
   "source": [
    "with open('/home/jerry/proteoms/edited_proteoms/Results_May20/Orthogroups.txt','r') as fil:\n",
    "    f=fil.readlines()\n",
    "ort=[]\n",
    "for i in f:\n",
    "    s=i.strip().split(': ')[1].split(' ')\n",
    "    if len(s)==2 and oba(s):\n",
    "        ort.append(sorted(s))\n",
    "\n",
    "with open('/home/jerry/Arabbeta_noersna_-0_10iterwithchecks.expressogroups.txt','r') as fil:\n",
    "    f=fil.readlines()\n",
    "ex=[]\n",
    "for i in f:\n",
    "    s=i.strip().split('\\t')\n",
    "    if len(s)==2 and oba(s):\n",
    "        ex.append(sorted(s))\n",
    "        \n",
    "        \n",
    "with open('/home/jerry/res.txt','w') as fil:\n",
    "    for i in ort:\n",
    "        fil.write(' '.join(i)+'\\n')\n",
    "        \n",
    "c1,c2,c3,c4=0,0,0,0\n",
    "for i in ex:\n",
    "    if i in ort:\n",
    "        c1+=1\n",
    "    else:\n",
    "        c2+=1\n",
    "for i in ort:\n",
    "    if i in ex:\n",
    "        c3+=1\n",
    "    else: c4+=1\n",
    "print c1,c2,c3,c4"
   ]
  }
 ],
 "metadata": {
  "kernelspec": {
   "display_name": "Python 2",
   "language": "python",
   "name": "python2"
  },
  "language_info": {
   "codemirror_mode": {
    "name": "ipython",
    "version": 2
   },
   "file_extension": ".py",
   "mimetype": "text/x-python",
   "name": "python",
   "nbconvert_exporter": "python",
   "pygments_lexer": "ipython2",
   "version": "2.7.16"
  }
 },
 "nbformat": 4,
 "nbformat_minor": 2
}
